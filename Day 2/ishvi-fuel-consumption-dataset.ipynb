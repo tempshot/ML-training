{
 "cells": [
  {
   "cell_type": "markdown",
   "id": "b2ca8abb",
   "metadata": {
    "button": false,
    "new_sheet": false,
    "papermill": {
     "duration": 0.025868,
     "end_time": "2022-06-22T21:13:07.078050",
     "exception": false,
     "start_time": "2022-06-22T21:13:07.052182",
     "status": "completed"
    },
    "run_control": {
     "read_only": false
    },
    "tags": []
   },
   "source": [
    "# **Simple Linear Regression**\n",
    "\n"
   ]
  },
  {
   "cell_type": "markdown",
   "id": "8d7a0070",
   "metadata": {
    "button": false,
    "new_sheet": false,
    "papermill": {
     "duration": 0.024331,
     "end_time": "2022-06-22T21:13:07.129684",
     "exception": false,
     "start_time": "2022-06-22T21:13:07.105353",
     "status": "completed"
    },
    "run_control": {
     "read_only": false
    },
    "tags": []
   },
   "source": [
    "# Importing Needed Libraries\n"
   ]
  },
  {
   "cell_type": "code",
   "execution_count": 1,
   "id": "75eee4d8",
   "metadata": {
    "button": false,
    "execution": {
     "iopub.execute_input": "2022-06-22T21:13:07.184075Z",
     "iopub.status.busy": "2022-06-22T21:13:07.182762Z",
     "iopub.status.idle": "2022-06-22T21:13:07.197972Z",
     "shell.execute_reply": "2022-06-22T21:13:07.198622Z",
     "shell.execute_reply.started": "2022-06-22T21:09:44.999378Z"
    },
    "new_sheet": false,
    "papermill": {
     "duration": 0.04483,
     "end_time": "2022-06-22T21:13:07.198962",
     "exception": false,
     "start_time": "2022-06-22T21:13:07.154132",
     "status": "completed"
    },
    "run_control": {
     "read_only": false
    },
    "tags": []
   },
   "outputs": [],
   "source": [
    "import matplotlib.pyplot as plt\n",
    "import pandas as pd\n",
    "import pylab as pl\n",
    "import numpy as np\n",
    "%matplotlib inline"
   ]
  },
  {
   "cell_type": "markdown",
   "id": "18b1bc59",
   "metadata": {
    "button": false,
    "new_sheet": false,
    "papermill": {
     "duration": 0.024818,
     "end_time": "2022-06-22T21:13:07.248476",
     "exception": false,
     "start_time": "2022-06-22T21:13:07.223658",
     "status": "completed"
    },
    "run_control": {
     "read_only": false
    },
    "tags": []
   },
   "source": [
    "# Reading the data"
   ]
  },
  {
   "cell_type": "code",
   "execution_count": 2,
   "id": "8a070afe",
   "metadata": {
    "button": false,
    "execution": {
     "iopub.execute_input": "2022-06-22T21:13:07.302058Z",
     "iopub.status.busy": "2022-06-22T21:13:07.301319Z",
     "iopub.status.idle": "2022-06-22T21:13:07.350387Z",
     "shell.execute_reply": "2022-06-22T21:13:07.350951Z",
     "shell.execute_reply.started": "2022-06-22T21:09:45.022497Z"
    },
    "new_sheet": false,
    "papermill": {
     "duration": 0.078027,
     "end_time": "2022-06-22T21:13:07.351129",
     "exception": false,
     "start_time": "2022-06-22T21:13:07.273102",
     "status": "completed"
    },
    "run_control": {
     "read_only": false
    },
    "tags": []
   },
   "outputs": [
    {
     "data": {
      "text/html": [
       "<div>\n",
       "<style scoped>\n",
       "    .dataframe tbody tr th:only-of-type {\n",
       "        vertical-align: middle;\n",
       "    }\n",
       "\n",
       "    .dataframe tbody tr th {\n",
       "        vertical-align: top;\n",
       "    }\n",
       "\n",
       "    .dataframe thead th {\n",
       "        text-align: right;\n",
       "    }\n",
       "</style>\n",
       "<table border=\"1\" class=\"dataframe\">\n",
       "  <thead>\n",
       "    <tr style=\"text-align: right;\">\n",
       "      <th></th>\n",
       "      <th>MODELYEAR</th>\n",
       "      <th>MAKE</th>\n",
       "      <th>MODEL</th>\n",
       "      <th>VEHICLECLASS</th>\n",
       "      <th>ENGINESIZE</th>\n",
       "      <th>CYLINDERS</th>\n",
       "      <th>TRANSMISSION</th>\n",
       "      <th>FUELTYPE</th>\n",
       "      <th>FUELCONSUMPTION_CITY</th>\n",
       "      <th>FUELCONSUMPTION_HWY</th>\n",
       "      <th>FUELCONSUMPTION_COMB</th>\n",
       "      <th>FUELCONSUMPTION_COMB_MPG</th>\n",
       "      <th>CO2EMISSIONS</th>\n",
       "    </tr>\n",
       "  </thead>\n",
       "  <tbody>\n",
       "    <tr>\n",
       "      <th>0</th>\n",
       "      <td>2014</td>\n",
       "      <td>ACURA</td>\n",
       "      <td>ILX</td>\n",
       "      <td>COMPACT</td>\n",
       "      <td>2.0</td>\n",
       "      <td>4</td>\n",
       "      <td>AS5</td>\n",
       "      <td>Z</td>\n",
       "      <td>9.9</td>\n",
       "      <td>6.7</td>\n",
       "      <td>8.5</td>\n",
       "      <td>33</td>\n",
       "      <td>196</td>\n",
       "    </tr>\n",
       "    <tr>\n",
       "      <th>1</th>\n",
       "      <td>2014</td>\n",
       "      <td>ACURA</td>\n",
       "      <td>ILX</td>\n",
       "      <td>COMPACT</td>\n",
       "      <td>2.4</td>\n",
       "      <td>4</td>\n",
       "      <td>M6</td>\n",
       "      <td>Z</td>\n",
       "      <td>11.2</td>\n",
       "      <td>7.7</td>\n",
       "      <td>9.6</td>\n",
       "      <td>29</td>\n",
       "      <td>221</td>\n",
       "    </tr>\n",
       "    <tr>\n",
       "      <th>2</th>\n",
       "      <td>2014</td>\n",
       "      <td>ACURA</td>\n",
       "      <td>ILX HYBRID</td>\n",
       "      <td>COMPACT</td>\n",
       "      <td>1.5</td>\n",
       "      <td>4</td>\n",
       "      <td>AV7</td>\n",
       "      <td>Z</td>\n",
       "      <td>6.0</td>\n",
       "      <td>5.8</td>\n",
       "      <td>5.9</td>\n",
       "      <td>48</td>\n",
       "      <td>136</td>\n",
       "    </tr>\n",
       "    <tr>\n",
       "      <th>3</th>\n",
       "      <td>2014</td>\n",
       "      <td>ACURA</td>\n",
       "      <td>MDX 4WD</td>\n",
       "      <td>SUV - SMALL</td>\n",
       "      <td>3.5</td>\n",
       "      <td>6</td>\n",
       "      <td>AS6</td>\n",
       "      <td>Z</td>\n",
       "      <td>12.7</td>\n",
       "      <td>9.1</td>\n",
       "      <td>11.1</td>\n",
       "      <td>25</td>\n",
       "      <td>255</td>\n",
       "    </tr>\n",
       "    <tr>\n",
       "      <th>4</th>\n",
       "      <td>2014</td>\n",
       "      <td>ACURA</td>\n",
       "      <td>RDX AWD</td>\n",
       "      <td>SUV - SMALL</td>\n",
       "      <td>3.5</td>\n",
       "      <td>6</td>\n",
       "      <td>AS6</td>\n",
       "      <td>Z</td>\n",
       "      <td>12.1</td>\n",
       "      <td>8.7</td>\n",
       "      <td>10.6</td>\n",
       "      <td>27</td>\n",
       "      <td>244</td>\n",
       "    </tr>\n",
       "  </tbody>\n",
       "</table>\n",
       "</div>"
      ],
      "text/plain": [
       "   MODELYEAR   MAKE       MODEL VEHICLECLASS  ENGINESIZE  CYLINDERS  \\\n",
       "0       2014  ACURA         ILX      COMPACT         2.0          4   \n",
       "1       2014  ACURA         ILX      COMPACT         2.4          4   \n",
       "2       2014  ACURA  ILX HYBRID      COMPACT         1.5          4   \n",
       "3       2014  ACURA     MDX 4WD  SUV - SMALL         3.5          6   \n",
       "4       2014  ACURA     RDX AWD  SUV - SMALL         3.5          6   \n",
       "\n",
       "  TRANSMISSION FUELTYPE  FUELCONSUMPTION_CITY  FUELCONSUMPTION_HWY  \\\n",
       "0          AS5        Z                   9.9                  6.7   \n",
       "1           M6        Z                  11.2                  7.7   \n",
       "2          AV7        Z                   6.0                  5.8   \n",
       "3          AS6        Z                  12.7                  9.1   \n",
       "4          AS6        Z                  12.1                  8.7   \n",
       "\n",
       "   FUELCONSUMPTION_COMB  FUELCONSUMPTION_COMB_MPG  CO2EMISSIONS  \n",
       "0                   8.5                        33           196  \n",
       "1                   9.6                        29           221  \n",
       "2                   5.9                        48           136  \n",
       "3                  11.1                        25           255  \n",
       "4                  10.6                        27           244  "
      ]
     },
     "execution_count": 2,
     "metadata": {},
     "output_type": "execute_result"
    }
   ],
   "source": [
    "dataset = pd.read_csv(\"../input/china-gdp-dataset/ml/FuelConsumption.csv\")\n",
    "dataset.head()\n",
    "dataset.head()"
   ]
  },
  {
   "cell_type": "markdown",
   "id": "fd00a777",
   "metadata": {
    "button": false,
    "new_sheet": false,
    "papermill": {
     "duration": 0.02524,
     "end_time": "2022-06-22T21:13:07.402982",
     "exception": false,
     "start_time": "2022-06-22T21:13:07.377742",
     "status": "completed"
    },
    "run_control": {
     "read_only": false
    },
    "tags": []
   },
   "source": [
    "# Data Exploration"
   ]
  },
  {
   "cell_type": "code",
   "execution_count": 3,
   "id": "5b5ea87f",
   "metadata": {
    "button": false,
    "execution": {
     "iopub.execute_input": "2022-06-22T21:13:07.458860Z",
     "iopub.status.busy": "2022-06-22T21:13:07.458092Z",
     "iopub.status.idle": "2022-06-22T21:13:07.506467Z",
     "shell.execute_reply": "2022-06-22T21:13:07.507030Z",
     "shell.execute_reply.started": "2022-06-22T21:09:45.054597Z"
    },
    "new_sheet": false,
    "papermill": {
     "duration": 0.077879,
     "end_time": "2022-06-22T21:13:07.507213",
     "exception": false,
     "start_time": "2022-06-22T21:13:07.429334",
     "status": "completed"
    },
    "run_control": {
     "read_only": false
    },
    "tags": []
   },
   "outputs": [
    {
     "data": {
      "text/html": [
       "<div>\n",
       "<style scoped>\n",
       "    .dataframe tbody tr th:only-of-type {\n",
       "        vertical-align: middle;\n",
       "    }\n",
       "\n",
       "    .dataframe tbody tr th {\n",
       "        vertical-align: top;\n",
       "    }\n",
       "\n",
       "    .dataframe thead th {\n",
       "        text-align: right;\n",
       "    }\n",
       "</style>\n",
       "<table border=\"1\" class=\"dataframe\">\n",
       "  <thead>\n",
       "    <tr style=\"text-align: right;\">\n",
       "      <th></th>\n",
       "      <th>MODELYEAR</th>\n",
       "      <th>ENGINESIZE</th>\n",
       "      <th>CYLINDERS</th>\n",
       "      <th>FUELCONSUMPTION_CITY</th>\n",
       "      <th>FUELCONSUMPTION_HWY</th>\n",
       "      <th>FUELCONSUMPTION_COMB</th>\n",
       "      <th>FUELCONSUMPTION_COMB_MPG</th>\n",
       "      <th>CO2EMISSIONS</th>\n",
       "    </tr>\n",
       "  </thead>\n",
       "  <tbody>\n",
       "    <tr>\n",
       "      <th>count</th>\n",
       "      <td>1067.0</td>\n",
       "      <td>1067.000000</td>\n",
       "      <td>1067.000000</td>\n",
       "      <td>1067.000000</td>\n",
       "      <td>1067.000000</td>\n",
       "      <td>1067.000000</td>\n",
       "      <td>1067.000000</td>\n",
       "      <td>1067.000000</td>\n",
       "    </tr>\n",
       "    <tr>\n",
       "      <th>mean</th>\n",
       "      <td>2014.0</td>\n",
       "      <td>3.346298</td>\n",
       "      <td>5.794752</td>\n",
       "      <td>13.296532</td>\n",
       "      <td>9.474602</td>\n",
       "      <td>11.580881</td>\n",
       "      <td>26.441425</td>\n",
       "      <td>256.228679</td>\n",
       "    </tr>\n",
       "    <tr>\n",
       "      <th>std</th>\n",
       "      <td>0.0</td>\n",
       "      <td>1.415895</td>\n",
       "      <td>1.797447</td>\n",
       "      <td>4.101253</td>\n",
       "      <td>2.794510</td>\n",
       "      <td>3.485595</td>\n",
       "      <td>7.468702</td>\n",
       "      <td>63.372304</td>\n",
       "    </tr>\n",
       "    <tr>\n",
       "      <th>min</th>\n",
       "      <td>2014.0</td>\n",
       "      <td>1.000000</td>\n",
       "      <td>3.000000</td>\n",
       "      <td>4.600000</td>\n",
       "      <td>4.900000</td>\n",
       "      <td>4.700000</td>\n",
       "      <td>11.000000</td>\n",
       "      <td>108.000000</td>\n",
       "    </tr>\n",
       "    <tr>\n",
       "      <th>25%</th>\n",
       "      <td>2014.0</td>\n",
       "      <td>2.000000</td>\n",
       "      <td>4.000000</td>\n",
       "      <td>10.250000</td>\n",
       "      <td>7.500000</td>\n",
       "      <td>9.000000</td>\n",
       "      <td>21.000000</td>\n",
       "      <td>207.000000</td>\n",
       "    </tr>\n",
       "    <tr>\n",
       "      <th>50%</th>\n",
       "      <td>2014.0</td>\n",
       "      <td>3.400000</td>\n",
       "      <td>6.000000</td>\n",
       "      <td>12.600000</td>\n",
       "      <td>8.800000</td>\n",
       "      <td>10.900000</td>\n",
       "      <td>26.000000</td>\n",
       "      <td>251.000000</td>\n",
       "    </tr>\n",
       "    <tr>\n",
       "      <th>75%</th>\n",
       "      <td>2014.0</td>\n",
       "      <td>4.300000</td>\n",
       "      <td>8.000000</td>\n",
       "      <td>15.550000</td>\n",
       "      <td>10.850000</td>\n",
       "      <td>13.350000</td>\n",
       "      <td>31.000000</td>\n",
       "      <td>294.000000</td>\n",
       "    </tr>\n",
       "    <tr>\n",
       "      <th>max</th>\n",
       "      <td>2014.0</td>\n",
       "      <td>8.400000</td>\n",
       "      <td>12.000000</td>\n",
       "      <td>30.200000</td>\n",
       "      <td>20.500000</td>\n",
       "      <td>25.800000</td>\n",
       "      <td>60.000000</td>\n",
       "      <td>488.000000</td>\n",
       "    </tr>\n",
       "  </tbody>\n",
       "</table>\n",
       "</div>"
      ],
      "text/plain": [
       "       MODELYEAR   ENGINESIZE    CYLINDERS  FUELCONSUMPTION_CITY  \\\n",
       "count     1067.0  1067.000000  1067.000000           1067.000000   \n",
       "mean      2014.0     3.346298     5.794752             13.296532   \n",
       "std          0.0     1.415895     1.797447              4.101253   \n",
       "min       2014.0     1.000000     3.000000              4.600000   \n",
       "25%       2014.0     2.000000     4.000000             10.250000   \n",
       "50%       2014.0     3.400000     6.000000             12.600000   \n",
       "75%       2014.0     4.300000     8.000000             15.550000   \n",
       "max       2014.0     8.400000    12.000000             30.200000   \n",
       "\n",
       "       FUELCONSUMPTION_HWY  FUELCONSUMPTION_COMB  FUELCONSUMPTION_COMB_MPG  \\\n",
       "count          1067.000000           1067.000000               1067.000000   \n",
       "mean              9.474602             11.580881                 26.441425   \n",
       "std               2.794510              3.485595                  7.468702   \n",
       "min               4.900000              4.700000                 11.000000   \n",
       "25%               7.500000              9.000000                 21.000000   \n",
       "50%               8.800000             10.900000                 26.000000   \n",
       "75%              10.850000             13.350000                 31.000000   \n",
       "max              20.500000             25.800000                 60.000000   \n",
       "\n",
       "       CO2EMISSIONS  \n",
       "count   1067.000000  \n",
       "mean     256.228679  \n",
       "std       63.372304  \n",
       "min      108.000000  \n",
       "25%      207.000000  \n",
       "50%      251.000000  \n",
       "75%      294.000000  \n",
       "max      488.000000  "
      ]
     },
     "execution_count": 3,
     "metadata": {},
     "output_type": "execute_result"
    }
   ],
   "source": [
    "dataset.describe()"
   ]
  },
  {
   "cell_type": "code",
   "execution_count": 4,
   "id": "6763ce1b",
   "metadata": {
    "button": false,
    "execution": {
     "iopub.execute_input": "2022-06-22T21:13:07.563003Z",
     "iopub.status.busy": "2022-06-22T21:13:07.562292Z",
     "iopub.status.idle": "2022-06-22T21:13:07.950046Z",
     "shell.execute_reply": "2022-06-22T21:13:07.949391Z",
     "shell.execute_reply.started": "2022-06-22T21:09:45.088948Z"
    },
    "new_sheet": false,
    "papermill": {
     "duration": 0.416948,
     "end_time": "2022-06-22T21:13:07.950221",
     "exception": false,
     "start_time": "2022-06-22T21:13:07.533273",
     "status": "completed"
    },
    "run_control": {
     "read_only": false
    },
    "tags": []
   },
   "outputs": [
    {
     "data": {
      "image/png": "[encoded data removed]",
      "text/plain": [
       "<Figure size 432x288 with 1 Axes>"
      ]
     },
     "metadata": {
      "needs_background": "light"
     },
     "output_type": "display_data"
    }
   ],
   "source": [
    "viz = dataset[['ENGINESIZE']]\n",
    "viz.hist()\n",
    "plt.show()"
   ]
  },
  {
   "cell_type": "markdown",
   "id": "0fbbec93",
   "metadata": {
    "button": false,
    "new_sheet": false,
    "papermill": {
     "duration": 0.027228,
     "end_time": "2022-06-22T21:13:08.006483",
     "exception": false,
     "start_time": "2022-06-22T21:13:07.979255",
     "status": "completed"
    },
    "run_control": {
     "read_only": false
    },
    "tags": []
   },
   "source": [
    "# Creating train and test dataset\n"
   ]
  },
  {
   "cell_type": "code",
   "execution_count": 5,
   "id": "14416f15",
   "metadata": {
    "button": false,
    "execution": {
     "iopub.execute_input": "2022-06-22T21:13:08.064439Z",
     "iopub.status.busy": "2022-06-22T21:13:08.063790Z",
     "iopub.status.idle": "2022-06-22T21:13:08.070370Z",
     "shell.execute_reply": "2022-06-22T21:13:08.069690Z",
     "shell.execute_reply.started": "2022-06-22T21:09:45.262073Z"
    },
    "new_sheet": false,
    "papermill": {
     "duration": 0.036703,
     "end_time": "2022-06-22T21:13:08.070540",
     "exception": false,
     "start_time": "2022-06-22T21:13:08.033837",
     "status": "completed"
    },
    "run_control": {
     "read_only": false
    },
    "tags": []
   },
   "outputs": [],
   "source": [
    "msk = np.random.rand(len(dataset)) < 0.8\n",
    "train = dataset[msk]\n",
    "test = dataset[~msk]"
   ]
  },
  {
   "cell_type": "markdown",
   "id": "3d24fb00",
   "metadata": {
    "button": false,
    "new_sheet": false,
    "papermill": {
     "duration": 0.026595,
     "end_time": "2022-06-22T21:13:08.124448",
     "exception": false,
     "start_time": "2022-06-22T21:13:08.097853",
     "status": "completed"
    },
    "run_control": {
     "read_only": false
    },
    "tags": []
   },
   "source": [
    "# Simple Regression Model\n",
    "\n",
    "**Linear Regression fits a linear model with coefficients B = (B1, ..., Bn) to minimize the 'residual sum of squares' between the actual value y in the dataset, and the predicted value yhat using linear approximation.\n",
    "**"
   ]
  },
  {
   "cell_type": "markdown",
   "id": "582ced60",
   "metadata": {
    "button": false,
    "new_sheet": false,
    "papermill": {
     "duration": 0.027081,
     "end_time": "2022-06-22T21:13:08.180005",
     "exception": false,
     "start_time": "2022-06-22T21:13:08.152924",
     "status": "completed"
    },
    "run_control": {
     "read_only": false
    },
    "tags": []
   },
   "source": [
    "\n",
    "# Train data distribution\n"
   ]
  },
  {
   "cell_type": "code",
   "execution_count": 6,
   "id": "951665ab",
   "metadata": {
    "button": false,
    "execution": {
     "iopub.execute_input": "2022-06-22T21:13:08.237754Z",
     "iopub.status.busy": "2022-06-22T21:13:08.237040Z",
     "iopub.status.idle": "2022-06-22T21:13:08.489861Z",
     "shell.execute_reply": "2022-06-22T21:13:08.489266Z",
     "shell.execute_reply.started": "2022-06-22T21:09:45.267362Z"
    },
    "new_sheet": false,
    "papermill": {
     "duration": 0.282758,
     "end_time": "2022-06-22T21:13:08.490027",
     "exception": false,
     "start_time": "2022-06-22T21:13:08.207269",
     "status": "completed"
    },
    "run_control": {
     "read_only": false
    },
    "tags": []
   },
   "outputs": [
    {
     "data": {
      "image/png": "[encoded data removed]",
      "text/plain": [
       "<Figure size 432x288 with 1 Axes>"
      ]
     },
     "metadata": {
      "needs_background": "light"
     },
     "output_type": "display_data"
    }
   ],
   "source": [
    "plt.scatter(train.ENGINESIZE, train.CO2EMISSIONS,  color='blue')\n",
    "plt.xlabel(\"Engine size\")\n",
    "plt.ylabel(\"Emission\")\n",
    "plt.show()"
   ]
  },
  {
   "cell_type": "markdown",
   "id": "4a0de2ba",
   "metadata": {
    "button": false,
    "new_sheet": false,
    "papermill": {
     "duration": 0.028246,
     "end_time": "2022-06-22T21:13:08.546374",
     "exception": false,
     "start_time": "2022-06-22T21:13:08.518128",
     "status": "completed"
    },
    "run_control": {
     "read_only": false
    },
    "tags": []
   },
   "source": [
    "# Modeling\n",
    "\n",
    "**Using sklearn package to model data.**\n"
   ]
  },
  {
   "cell_type": "code",
   "execution_count": 7,
   "id": "9f300213",
   "metadata": {
    "button": false,
    "execution": {
     "iopub.execute_input": "2022-06-22T21:13:08.611833Z",
     "iopub.status.busy": "2022-06-22T21:13:08.611140Z",
     "iopub.status.idle": "2022-06-22T21:13:09.722579Z",
     "shell.execute_reply": "2022-06-22T21:13:09.721925Z",
     "shell.execute_reply.started": "2022-06-22T21:09:45.445974Z"
    },
    "new_sheet": false,
    "papermill": {
     "duration": 1.147921,
     "end_time": "2022-06-22T21:13:09.722755",
     "exception": false,
     "start_time": "2022-06-22T21:13:08.574834",
     "status": "completed"
    },
    "run_control": {
     "read_only": false
    },
    "tags": []
   },
   "outputs": [
    {
     "name": "stdout",
     "output_type": "stream",
     "text": [
      "Coefficients:  [[38.9307854]]\n",
      "Intercept:  [126.41766342]\n"
     ]
    }
   ],
   "source": [
    "from sklearn import linear_model\n",
    "regr = linear_model.LinearRegression()\n",
    "train_x = np.asanyarray(train[['ENGINESIZE']])\n",
    "train_y = np.asanyarray(train[['CO2EMISSIONS']])\n",
    "regr.fit(train_x, train_y)\n",
    "\n",
    "# The coefficients\n",
    "print ('Coefficients: ', regr.coef_)\n",
    "print ('Intercept: ',regr.intercept_)"
   ]
  },
  {
   "cell_type": "markdown",
   "id": "e1f64f9c",
   "metadata": {
    "button": false,
    "new_sheet": false,
    "papermill": {
     "duration": 0.028419,
     "end_time": "2022-06-22T21:13:09.779945",
     "exception": false,
     "start_time": "2022-06-22T21:13:09.751526",
     "status": "completed"
    },
    "run_control": {
     "read_only": false
    },
    "tags": []
   },
   "source": [
    "# Plot outputs\n"
   ]
  },
  {
   "cell_type": "code",
   "execution_count": 8,
   "id": "ab240a05",
   "metadata": {
    "button": false,
    "execution": {
     "iopub.execute_input": "2022-06-22T21:13:09.848455Z",
     "iopub.status.busy": "2022-06-22T21:13:09.847741Z",
     "iopub.status.idle": "2022-06-22T21:13:10.129176Z",
     "shell.execute_reply": "2022-06-22T21:13:10.128465Z",
     "shell.execute_reply.started": "2022-06-22T21:09:46.365344Z"
    },
    "new_sheet": false,
    "papermill": {
     "duration": 0.320827,
     "end_time": "2022-06-22T21:13:10.129335",
     "exception": false,
     "start_time": "2022-06-22T21:13:09.808508",
     "status": "completed"
    },
    "run_control": {
     "read_only": false
    },
    "tags": []
   },
   "outputs": [
    {
     "data": {
      "text/plain": [
       "Text(0, 0.5, 'Emission')"
      ]
     },
     "execution_count": 8,
     "metadata": {},
     "output_type": "execute_result"
    },
    {
     "data": {
      "image/png": "[encoded data removed]",
      "text/plain": [
       "<Figure size 432x288 with 1 Axes>"
      ]
     },
     "metadata": {
      "needs_background": "light"
     },
     "output_type": "display_data"
    }
   ],
   "source": [
    "plt.scatter(train.ENGINESIZE, train.CO2EMISSIONS,  color='blue')\n",
    "plt.plot(train_x, regr.coef_[0][0]*train_x + regr.intercept_[0], '-r')\n",
    "plt.xlabel(\"Engine size\")\n",
    "plt.ylabel(\"Emission\")"
   ]
  },
  {
   "cell_type": "markdown",
   "id": "066ee653",
   "metadata": {
    "button": false,
    "new_sheet": false,
    "papermill": {
     "duration": 0.03029,
     "end_time": "2022-06-22T21:13:10.189687",
     "exception": false,
     "start_time": "2022-06-22T21:13:10.159397",
     "status": "completed"
    },
    "run_control": {
     "read_only": false
    },
    "tags": []
   },
   "source": [
    "# Evaluation\n"
   ]
  },
  {
   "cell_type": "code",
   "execution_count": 9,
   "id": "69779589",
   "metadata": {
    "button": false,
    "execution": {
     "iopub.execute_input": "2022-06-22T21:13:10.259685Z",
     "iopub.status.busy": "2022-06-22T21:13:10.258705Z",
     "iopub.status.idle": "2022-06-22T21:13:10.264775Z",
     "shell.execute_reply": "2022-06-22T21:13:10.265438Z",
     "shell.execute_reply.started": "2022-06-22T21:09:46.577678Z"
    },
    "new_sheet": false,
    "papermill": {
     "duration": 0.045585,
     "end_time": "2022-06-22T21:13:10.265647",
     "exception": false,
     "start_time": "2022-06-22T21:13:10.220062",
     "status": "completed"
    },
    "run_control": {
     "read_only": false
    },
    "scrolled": true,
    "tags": []
   },
   "outputs": [
    {
     "name": "stdout",
     "output_type": "stream",
     "text": [
      "Mean absolute error: 24.36\n",
      "Residual sum of squares (MSE): 1055.65\n",
      "R2-score: 0.76\n"
     ]
    }
   ],
   "source": [
    "from sklearn.metrics import r2_score\n",
    "\n",
    "test_x = np.asanyarray(test[['ENGINESIZE']])\n",
    "test_y = np.asanyarray(test[['CO2EMISSIONS']])\n",
    "test_y_ = regr.predict(test_x)\n",
    "\n",
    "print(\"Mean absolute error: %.2f\" % np.mean(np.absolute(test_y_ - test_y)))\n",
    "print(\"Residual sum of squares (MSE): %.2f\" % np.mean((test_y_ - test_y) ** 2))\n",
    "print(\"R2-score: %.2f\" % r2_score(test_y , test_y_) )"
   ]
  },
  {
   "cell_type": "code",
   "execution_count": 10,
   "id": "5f07a241",
   "metadata": {
    "execution": {
     "iopub.execute_input": "2022-06-22T21:13:10.336791Z",
     "iopub.status.busy": "2022-06-22T21:13:10.332008Z",
     "iopub.status.idle": "2022-06-22T21:13:10.341030Z",
     "shell.execute_reply": "2022-06-22T21:13:10.341662Z",
     "shell.execute_reply.started": "2022-06-22T21:09:46.588722Z"
    },
    "papermill": {
     "duration": 0.045,
     "end_time": "2022-06-22T21:13:10.341851",
     "exception": false,
     "start_time": "2022-06-22T21:13:10.296851",
     "status": "completed"
    },
    "tags": []
   },
   "outputs": [
    {
     "data": {
      "text/plain": [
       "(861, 1)"
      ]
     },
     "execution_count": 10,
     "metadata": {},
     "output_type": "execute_result"
    }
   ],
   "source": [
    "train_x = train[['FUELCONSUMPTION_COMB']]\n",
    "\n",
    "test_x = test[['FUELCONSUMPTION_COMB']]\n",
    "\n",
    "train_x.shape"
   ]
  },
  {
   "cell_type": "code",
   "execution_count": 11,
   "id": "8c26bf93",
   "metadata": {
    "execution": {
     "iopub.execute_input": "2022-06-22T21:13:10.414116Z",
     "iopub.status.busy": "2022-06-22T21:13:10.413389Z",
     "iopub.status.idle": "2022-06-22T21:13:10.420673Z",
     "shell.execute_reply": "2022-06-22T21:13:10.421253Z",
     "shell.execute_reply.started": "2022-06-22T21:09:46.604679Z"
    },
    "papermill": {
     "duration": 0.048669,
     "end_time": "2022-06-22T21:13:10.421443",
     "exception": false,
     "start_time": "2022-06-22T21:13:10.372774",
     "status": "completed"
    },
    "tags": []
   },
   "outputs": [
    {
     "data": {
      "text/plain": [
       "LinearRegression()"
      ]
     },
     "execution_count": 11,
     "metadata": {},
     "output_type": "execute_result"
    }
   ],
   "source": [
    "regr = linear_model.LinearRegression()\n",
    "\n",
    "regr.fit(train_x, train_y)\n"
   ]
  },
  {
   "cell_type": "code",
   "execution_count": 12,
   "id": "1212a54e",
   "metadata": {
    "execution": {
     "iopub.execute_input": "2022-06-22T21:13:10.493319Z",
     "iopub.status.busy": "2022-06-22T21:13:10.492650Z",
     "iopub.status.idle": "2022-06-22T21:13:10.494903Z",
     "shell.execute_reply": "2022-06-22T21:13:10.495580Z",
     "shell.execute_reply.started": "2022-06-22T21:09:46.619425Z"
    },
    "papermill": {
     "duration": 0.041523,
     "end_time": "2022-06-22T21:13:10.495759",
     "exception": false,
     "start_time": "2022-06-22T21:13:10.454236",
     "status": "completed"
    },
    "tags": []
   },
   "outputs": [],
   "source": [
    "predictions = regr.predict(test_x)"
   ]
  },
  {
   "cell_type": "code",
   "execution_count": 13,
   "id": "564e6579",
   "metadata": {
    "execution": {
     "iopub.execute_input": "2022-06-22T21:13:10.561977Z",
     "iopub.status.busy": "2022-06-22T21:13:10.561247Z",
     "iopub.status.idle": "2022-06-22T21:13:10.569767Z",
     "shell.execute_reply": "2022-06-22T21:13:10.570315Z",
     "shell.execute_reply.started": "2022-06-22T21:09:46.628169Z"
    },
    "papermill": {
     "duration": 0.043521,
     "end_time": "2022-06-22T21:13:10.570519",
     "exception": false,
     "start_time": "2022-06-22T21:13:10.526998",
     "status": "completed"
    },
    "tags": []
   },
   "outputs": [
    {
     "name": "stdout",
     "output_type": "stream",
     "text": [
      "MSE:  [22.20552776]\n"
     ]
    }
   ],
   "source": [
    "s=0\n",
    "for i in range(test_y.shape[0]):\n",
    "    s += np.absolute(predictions[i] - test_y[i])\n",
    "MSE = s/test_y.shape[0]\n",
    "print(\"MSE: \", MSE)"
   ]
  },
  {
   "cell_type": "code",
   "execution_count": 14,
   "id": "ab4a7856",
   "metadata": {
    "execution": {
     "iopub.execute_input": "2022-06-22T21:13:10.637740Z",
     "iopub.status.busy": "2022-06-22T21:13:10.637020Z",
     "iopub.status.idle": "2022-06-22T21:13:10.642505Z",
     "shell.execute_reply": "2022-06-22T21:13:10.643196Z",
     "shell.execute_reply.started": "2022-06-22T21:09:46.640615Z"
    },
    "papermill": {
     "duration": 0.04099,
     "end_time": "2022-06-22T21:13:10.643374",
     "exception": false,
     "start_time": "2022-06-22T21:13:10.602384",
     "status": "completed"
    },
    "tags": []
   },
   "outputs": [
    {
     "name": "stdout",
     "output_type": "stream",
     "text": [
      "Mean Absolute Error: 22.21\n"
     ]
    }
   ],
   "source": [
    "print(\"Mean Absolute Error: %.2f\" % np.mean(np.absolute(predictions - test_y)))"
   ]
  },
  {
   "cell_type": "markdown",
   "id": "9258072a",
   "metadata": {
    "papermill": {
     "duration": 0.032087,
     "end_time": "2022-06-22T21:13:10.707749",
     "exception": false,
     "start_time": "2022-06-22T21:13:10.675662",
     "status": "completed"
    },
    "tags": []
   },
   "source": [
    "# **Finished**"
   ]
  }
 ],
 "metadata": {
  "kernelspec": {
   "display_name": "Python 3",
   "language": "python",
   "name": "python3"
  },
  "language_info": {
   "codemirror_mode": {
    "name": "ipython",
    "version": 3
   },
   "file_extension": ".py",
   "mimetype": "text/x-python",
   "name": "python",
   "nbconvert_exporter": "python",
   "pygments_lexer": "ipython3",
   "version": "3.7.12"
  },
  "papermill": {
   "default_parameters": {},
   "duration": 15.084904,
   "end_time": "2022-06-22T21:13:11.652181",
   "environment_variables": {},
   "exception": null,
   "input_path": "__notebook__.ipynb",
   "output_path": "__notebook__.ipynb",
   "parameters": {},
   "start_time": "2022-06-22T21:12:56.567277",
   "version": "2.3.3"
  }
 },
 "nbformat": 4,
 "nbformat_minor": 5
}
